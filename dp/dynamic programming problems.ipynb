{
 "cells": [
  {
   "cell_type": "markdown",
   "metadata": {},
   "source": [
    "# 0/1 knapsack"
   ]
  },
  {
   "cell_type": "code",
   "execution_count": 2,
   "metadata": {},
   "outputs": [
    {
     "data": {
      "text/plain": [
       "220"
      ]
     },
     "execution_count": 2,
     "metadata": {},
     "output_type": "execute_result"
    }
   ],
   "source": [
    "def knapsack(wt,p,w,n):\n",
    "    k=[[0 for i in range(w+1)] for j in range(n+1)]\n",
    "    for i in range(n+1):\n",
    "        for j in range(w+1):\n",
    "            if i==0 or j==0:\n",
    "                k[i][j] = 0   #initialize 0th row and column to '0'\n",
    "            elif wt[i-1]<=j:\n",
    "                k[i][j] = max(p[i-1]+k[i-1][j-wt[i-1]],k[i-1][j])  #include or discard item\n",
    "            else:\n",
    "                k[i][j] = k[i-1][j]  #copy content from previous row\n",
    "    return k[n][w]\n",
    "                \n",
    "    \n",
    "p = [60, 100, 120] \n",
    "wt = [1, 2, 3] \n",
    "w=5\n",
    "n=len(p)\n",
    "knapsack(wt,p,w,n)"
   ]
  },
  {
   "cell_type": "markdown",
   "metadata": {},
   "source": [
    "# Longest increasing subsequence"
   ]
  },
  {
   "cell_type": "code",
   "execution_count": 14,
   "metadata": {},
   "outputs": [
    {
     "data": {
      "text/plain": [
       "6"
      ]
     },
     "execution_count": 14,
     "metadata": {},
     "output_type": "execute_result"
    }
   ],
   "source": [
    "def subseq(arr,n):\n",
    "    lis=[1 for i in range(n)]\n",
    "    for i in range(1,n):\n",
    "        for j in range(i):\n",
    "            if arr[j]<arr[i] and lis[i]<lis[j]+1:\n",
    "                lis[i] = lis[j]+1\n",
    "    return max(lis)\n",
    "li=[10,22,9,33,21,38,41,60]\n",
    "n=len(li)\n",
    "res = subseq(li,n)\n",
    "res"
   ]
  },
  {
   "cell_type": "markdown",
   "metadata": {},
   "source": [
    "# Fibonacci sequence"
   ]
  },
  {
   "cell_type": "code",
   "execution_count": 4,
   "metadata": {},
   "outputs": [
    {
     "data": {
      "text/plain": [
       "190392490709135"
      ]
     },
     "execution_count": 4,
     "metadata": {},
     "output_type": "execute_result"
    }
   ],
   "source": [
    "fib=[]\n",
    "fib.append(0)\n",
    "fib.append(1)\n",
    "n=70\n",
    "for i in range(2,n+1):\n",
    "    fib.append(fib[i-1]+fib[i-2])\n",
    "fib[n]"
   ]
  },
  {
   "cell_type": "markdown",
   "metadata": {},
   "source": [
    "# Longest common subsquence of three strings "
   ]
  },
  {
   "cell_type": "code",
   "execution_count": 10,
   "metadata": {},
   "outputs": [
    {
     "data": {
      "text/plain": [
       "6"
      ]
     },
     "execution_count": 10,
     "metadata": {},
     "output_type": "execute_result"
    }
   ],
   "source": [
    "def lcmof3(x,y,z,m,n,o):\n",
    "    li = [[[0 for i in range(o+1)] for j in range(n+1)] for k in range(m+1)]\n",
    "    for i in range(m+1):\n",
    "        for j in range(n+1):\n",
    "            for k in range(o+1):\n",
    "                if i==0 or j==0 or k==0:\n",
    "                    li[i][j][k] = 0\n",
    "                elif x[i-1] == y[j-1] and x[i-1]==z[k-1]:\n",
    "                    li[i][j][k] = li[i-1][j-1][k-1] + 1\n",
    "                else:\n",
    "                    li[i][j][k] = max(max(li[i-1][j][k],li[i][j-1][k]),li[i][j][k-1])\n",
    "    return li[m][n][o]\n",
    "    \n",
    "    \n",
    "x=\"geeksf\"\n",
    "y=\"geeksfor\"\n",
    "z=\"geeksforgeeks\"\n",
    "m=len(x)\n",
    "n=len(y)\n",
    "o=len(z)\n",
    "lcmof3(x,y,z,m,n,o)"
   ]
  },
  {
   "cell_type": "markdown",
   "metadata": {},
   "source": [
    "# Longest common subsquence of two strings "
   ]
  },
  {
   "cell_type": "code",
   "execution_count": 27,
   "metadata": {},
   "outputs": [
    {
     "data": {
      "text/plain": [
       "10"
      ]
     },
     "execution_count": 27,
     "metadata": {},
     "output_type": "execute_result"
    }
   ],
   "source": [
    "def lcmof2(x,y,m,n):\n",
    "    li = [[0 for i in range(n+1)] for j in range(m+1)]\n",
    "    for i in range(m+1):\n",
    "        for j in range(n+1):\n",
    "            if i==0 or j==0:\n",
    "                li[i][j] = 0\n",
    "            elif x[i-1] == y[j-1]:\n",
    "                li[i][j] = li[i-1][j-1] + 1\n",
    "            else:\n",
    "                li[i][j] = max(li[i-1][j],li[i][j-1])\n",
    "    return li[m][n]\n",
    "        \n",
    "x=\"geek\"\n",
    "y=\"geeksfor\"\n",
    "m=len(x)\n",
    "n=len(y)\n",
    "lcmof2(x,y,m,n)"
   ]
  },
  {
   "cell_type": "markdown",
   "metadata": {},
   "source": [
    "# Binomial Coefficient"
   ]
  },
  {
   "cell_type": "code",
   "execution_count": 18,
   "metadata": {},
   "outputs": [
    {
     "name": "stdout",
     "output_type": "stream",
     "text": [
      "Value of 5C2 is 10\n"
     ]
    }
   ],
   "source": [
    "def binoCoef(n,r):\n",
    "    k = [[0 for i in range(r+1)] for j in range(n+1)]\n",
    "    for i in range(n+1):\n",
    "        for j in range(min(i,r)+1):\n",
    "            if j==0 or j==i:\n",
    "                k[i][j] = 1\n",
    "            else:\n",
    "                k[i][j] = k[i-1][j-1] + k[i-1][j]\n",
    "    return k[n][r]\n",
    "n=5\n",
    "r=2\n",
    "print(\"Value of \"+str(n)+\"C\"+str(r)+\" is \"+str(binoCoef(n,r)))"
   ]
  },
  {
   "cell_type": "markdown",
   "metadata": {},
   "source": [
    "# Edit distance"
   ]
  },
  {
   "cell_type": "code",
   "execution_count": 23,
   "metadata": {},
   "outputs": [
    {
     "data": {
      "text/plain": [
       "2"
      ]
     },
     "execution_count": 23,
     "metadata": {},
     "output_type": "execute_result"
    }
   ],
   "source": [
    "def editdistance(x,y,m,n):\n",
    "    if m==0:\n",
    "        return n\n",
    "    if n==0:\n",
    "        return m\n",
    "    if x[m-1] == y[n-1]:\n",
    "        return editdistance(x,y,m-1,n-1)\n",
    "    else:\n",
    "        return min(editdistance(x,y,m,n-1),editdistance(x,y,m-1,n),editdistance(x,y,m-1,n-1))+1\n",
    "            \n",
    "x=\"adya\"\n",
    "y=\"aditya\"\n",
    "editdistance(x,y,len(x),len(y))\n"
   ]
  },
  {
   "cell_type": "markdown",
   "metadata": {},
   "source": [
    "# Longest Palindromic subsequence"
   ]
  },
  {
   "cell_type": "code",
   "execution_count": 38,
   "metadata": {},
   "outputs": [
    {
     "data": {
      "text/plain": [
       "5"
      ]
     },
     "execution_count": 38,
     "metadata": {},
     "output_type": "execute_result"
    }
   ],
   "source": [
    "def lps(x):\n",
    "    n=len(x)\n",
    "    li = [[0 for i in range(n)] for j in range(n)]\n",
    "    for i in range(n):\n",
    "        li[i][i] = 1\n",
    "        \n",
    "    for cl in range(2,n+1):\n",
    "        for i in range(n-cl+1):\n",
    "            j=i+cl-1\n",
    "            if x[i] == x[j] and cl==2:\n",
    "                li[i][j] = 2\n",
    "            elif x[i] == x[j]:\n",
    "                li[i][j] = li[i+1][j-1] + 2\n",
    "            else:\n",
    "                li[i][j] = max(li[i][j-1],li[i+1][j])\n",
    "    return li[0][n-1]\n",
    "\n",
    "a = \"GEEKSFORGEEKS\"\n",
    "lps(a)"
   ]
  },
  {
   "cell_type": "markdown",
   "metadata": {},
   "source": [
    "# Gold mine problem"
   ]
  },
  {
   "cell_type": "code",
   "execution_count": 42,
   "metadata": {},
   "outputs": [
    {
     "data": {
      "text/plain": [
       "16"
      ]
     },
     "execution_count": 42,
     "metadata": {},
     "output_type": "execute_result"
    }
   ],
   "source": [
    "def maxGold(gold,m,n):\n",
    "    # gold is 2D list m is number of rows and n is number of columns\n",
    "    li = [[0 for i in range(n)] for j in range(m)]\n",
    "    \n",
    "    for col in range(n-1,-1,-1):\n",
    "        for row in range(m):\n",
    "            if col == n-1:\n",
    "                right = 0\n",
    "            else:\n",
    "                right = li[row][col+1]\n",
    "            \n",
    "            if row == 0 or col == n-1:\n",
    "                right_top = 0\n",
    "            else:\n",
    "                right_top = li[row-1][col+1]\n",
    "                \n",
    "            if row == m-1 or col == n-1:\n",
    "                right_down = 0\n",
    "            else:\n",
    "                right_down = li[row+1][col+1]\n",
    "                \n",
    "            li[row][col] = gold[row][col] + max(right_top, right, right_down)\n",
    "            \n",
    "    res = li[0][0]\n",
    "    for i in range(1,m):\n",
    "        res = max(res,li[i][0])\n",
    "    return res\n",
    "\n",
    "gold = [[1, 3, 1, 5], \n",
    "        [2, 2, 4, 1], \n",
    "        [5, 0, 2, 3], \n",
    "        [0, 6, 1, 2]] \n",
    "m=4\n",
    "n=4\n",
    "maxGold(gold,m,n)"
   ]
  }
 ],
 "metadata": {
  "kernelspec": {
   "display_name": "Python 3",
   "language": "python",
   "name": "python3"
  },
  "language_info": {
   "codemirror_mode": {
    "name": "ipython",
    "version": 3
   },
   "file_extension": ".py",
   "mimetype": "text/x-python",
   "name": "python",
   "nbconvert_exporter": "python",
   "pygments_lexer": "ipython3",
   "version": "3.8.1"
  }
 },
 "nbformat": 4,
 "nbformat_minor": 4
}
