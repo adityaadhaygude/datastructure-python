{
 "cells": [
  {
   "cell_type": "markdown",
   "metadata": {},
   "source": [
    "# Inseretion sort"
   ]
  },
  {
   "cell_type": "code",
   "execution_count": 1,
   "metadata": {},
   "outputs": [
    {
     "name": "stdout",
     "output_type": "stream",
     "text": [
      "5\n",
      "5 3 2 4 1\n",
      "[1, 2, 3, 4, 5]\n"
     ]
    }
   ],
   "source": [
    "# remember in insertion sort left side of the element is always sorted.\n",
    "def insertion_sort(arr):\n",
    "    for i in range(1,len(arr)):  #loop starts from 1 as nothing is on left side of the first element\n",
    "        element = arr[i]\n",
    "        left=i-1\n",
    "        while left>=0:\n",
    "            if element<arr[left]:\n",
    "                arr[left],arr[left+1] = element,arr[left]\n",
    "                left-=1\n",
    "            else:\n",
    "                break\n",
    "n=int(input())                \n",
    "li=list(map(int,input().split(\" \")))\n",
    "temp=li\n",
    "insertion_sort(li)\n",
    "print(li)\n",
    "\n",
    "        "
   ]
  }
 ],
 "metadata": {
  "kernelspec": {
   "display_name": "Python 3",
   "language": "python",
   "name": "python3"
  },
  "language_info": {
   "codemirror_mode": {
    "name": "ipython",
    "version": 3
   },
   "file_extension": ".py",
   "mimetype": "text/x-python",
   "name": "python",
   "nbconvert_exporter": "python",
   "pygments_lexer": "ipython3",
   "version": "3.8.3"
  }
 },
 "nbformat": 4,
 "nbformat_minor": 4
}
