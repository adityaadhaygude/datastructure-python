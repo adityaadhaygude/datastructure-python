{
 "cells": [
  {
   "cell_type": "code",
   "execution_count": 15,
   "metadata": {},
   "outputs": [
    {
     "name": "stdout",
     "output_type": "stream",
     "text": [
      "5\n",
      "5 3 1 2 4\n",
      "6\n"
     ]
    }
   ],
   "source": [
    "def bubblesort(arr):\n",
    "    itr=0\n",
    "    for i in range(len(arr)-1):\n",
    "        for j in range(0,len(arr)-i-1):\n",
    "            if arr[j]>arr[j+1]:\n",
    "                arr[j],arr[j+1]=arr[j+1],arr[j]\n",
    "                    itr+=1\n",
    "    \n",
    "    return itr\n",
    "n=int(input())\n",
    "li=list(map(int,input().split()))\n",
    "res=bubblesort(li)\n",
    "print(res)"
   ]
  }
 ],
 "metadata": {
  "kernelspec": {
   "display_name": "Python 3",
   "language": "python",
   "name": "python3"
  },
  "language_info": {
   "codemirror_mode": {
    "name": "ipython",
    "version": 3
   },
   "file_extension": ".py",
   "mimetype": "text/x-python",
   "name": "python",
   "nbconvert_exporter": "python",
   "pygments_lexer": "ipython3",
   "version": "3.8.3"
  }
 },
 "nbformat": 4,
 "nbformat_minor": 4
}
