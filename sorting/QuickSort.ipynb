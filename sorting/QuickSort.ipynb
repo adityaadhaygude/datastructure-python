{
 "cells": [
  {
   "cell_type": "code",
   "execution_count": 8,
   "metadata": {},
   "outputs": [
    {
     "name": "stdout",
     "output_type": "stream",
     "text": [
      "Original Array:  [45, 2, 73, 3, 1, 6]\n",
      "Sorted Array:  [1, 2, 3, 6, 45, 73]\n"
     ]
    }
   ],
   "source": [
    "def QuickSort(arr):\n",
    "    elements = len(arr)    \n",
    "    if elements < 2:\n",
    "        return arr\n",
    "    \n",
    "    current_position = 0 #Position of the partitioning element\n",
    "    for i in range(1, elements): #Partitioning loop\n",
    "         if arr[i] <= arr[0]:\n",
    "              current_position += 1\n",
    "              arr[i],arr[current_position] = arr[current_position],arr[i]\n",
    "\n",
    "    \n",
    "    arr[0],arr[current_position] = arr[current_position],arr[0]\n",
    "     #Brings pivot to it's appropriate position\n",
    "    \n",
    "    left = QuickSort(arr[0:current_position]) #Sorts the elements to the left of pivot\n",
    "    right = QuickSort(arr[current_position+1:elements]) #sorts the elements to the right of pivot\n",
    "\n",
    "    arr = left + [arr[current_position]] + right #Merging everything together\n",
    "    \n",
    "    return arr\n",
    "\n",
    "li = [45,2,73,3,1,6]\n",
    "print(\"Original Array: \",li)\n",
    "print(\"Sorted Array: \",QuickSort(li))"
   ]
  }
 ],
 "metadata": {
  "kernelspec": {
   "display_name": "Python 3",
   "language": "python",
   "name": "python3"
  },
  "language_info": {
   "codemirror_mode": {
    "name": "ipython",
    "version": 3
   },
   "file_extension": ".py",
   "mimetype": "text/x-python",
   "name": "python",
   "nbconvert_exporter": "python",
   "pygments_lexer": "ipython3",
   "version": "3.8.3"
  }
 },
 "nbformat": 4,
 "nbformat_minor": 4
}
