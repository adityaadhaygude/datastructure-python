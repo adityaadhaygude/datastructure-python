{
 "cells": [
  {
   "cell_type": "code",
   "execution_count": 2,
   "metadata": {},
   "outputs": [
    {
     "name": "stdout",
     "output_type": "stream",
     "text": [
      "5 3\n",
      "4 1 5 3 2\n",
      "1 2 3 4 5 "
     ]
    }
   ],
   "source": [
    "def selectionsort(arr,n):\n",
    "    itr=0\n",
    "    for i in range(len(arr)):\n",
    "        mini=i\n",
    "        for j in range(i+1,len(arr)):\n",
    "            if arr[j]<arr[mini]:\n",
    "                mini=j  \n",
    "        arr[i],arr[mini]=arr[mini],arr[i]\n",
    "        if i==n:\n",
    "            break\n",
    "    return arr\n",
    "size,itr=input().split(\" \")\n",
    "size=int(size)\n",
    "itr=int(itr)\n",
    "string=\"\"\n",
    "li=list(map(int,input().split(\" \")))\n",
    "res=selectionsort(li,itr)\n",
    "for x in res:\n",
    "    print(x,end=\" \")"
   ]
  }
 ],
 "metadata": {
  "kernelspec": {
   "display_name": "Python 3",
   "language": "python",
   "name": "python3"
  },
  "language_info": {
   "codemirror_mode": {
    "name": "ipython",
    "version": 3
   },
   "file_extension": ".py",
   "mimetype": "text/x-python",
   "name": "python",
   "nbconvert_exporter": "python",
   "pygments_lexer": "ipython3",
   "version": "3.8.3"
  }
 },
 "nbformat": 4,
 "nbformat_minor": 4
}
