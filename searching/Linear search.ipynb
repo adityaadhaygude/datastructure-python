{
 "cells": [
  {
   "cell_type": "markdown",
   "metadata": {},
   "source": [
    "# Linear search\n"
   ]
  },
  {
   "cell_type": "code",
   "execution_count": 1,
   "metadata": {},
   "outputs": [
    {
     "name": "stdout",
     "output_type": "stream",
     "text": [
      "5 1\n",
      "1 2 3 45 6\n",
      "0\n"
     ]
    }
   ],
   "source": [
    "n,m=input().split(\" \")\n",
    "n=int(n)\n",
    "m=int(m)\n",
    "ind=0\n",
    "index=[]\n",
    "ispre=False\n",
    "li=list(map(int,input().split(\" \")))\n",
    "for i in li:\n",
    "    if i==m:\n",
    "        index.append(ind)\n",
    "        ispre=True\n",
    "    ind+=1\n",
    "\n",
    "if ispre==False:\n",
    "    print(\"-1\")\n",
    "else:\n",
    "    print(max(index))"
   ]
  },
  {
   "cell_type": "code",
   "execution_count": 22,
   "metadata": {},
   "outputs": [
    {
     "name": "stdout",
     "output_type": "stream",
     "text": [
      "5 3 2 2\n",
      "[5, 3, 2, 2]\n"
     ]
    }
   ],
   "source": [
    "a = list(map(int,input().split()))\n",
    "print(a)"
   ]
  }
 ],
 "metadata": {
  "kernelspec": {
   "display_name": "Python 3",
   "language": "python",
   "name": "python3"
  },
  "language_info": {
   "codemirror_mode": {
    "name": "ipython",
    "version": 3
   },
   "file_extension": ".py",
   "mimetype": "text/x-python",
   "name": "python",
   "nbconvert_exporter": "python",
   "pygments_lexer": "ipython3",
   "version": "3.8.3"
  }
 },
 "nbformat": 4,
 "nbformat_minor": 4
}
