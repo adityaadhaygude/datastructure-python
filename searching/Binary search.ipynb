{
 "cells": [
  {
   "cell_type": "markdown",
   "metadata": {},
   "source": [
    "# Binary search\n"
   ]
  },
  {
   "cell_type": "code",
   "execution_count": 9,
   "metadata": {},
   "outputs": [
    {
     "name": "stdout",
     "output_type": "stream",
     "text": [
      "5\n",
      "5 4 3 2 1\n",
      "1\n",
      "5\n",
      "5\n"
     ]
    }
   ],
   "source": [
    "def binary_search(arr, x): \n",
    "    low = 0\n",
    "    high = len(arr)\n",
    "    mid = 0\n",
    "    while low <= high: \n",
    "        mid = (high + low) // 2\n",
    "        if arr[mid] < x: \n",
    "            low = mid + 1\n",
    "        elif arr[mid] > x: \n",
    "            high = mid - 1\n",
    "        else: \n",
    "            return mid+1 \n",
    "    return -1\n",
    "\n",
    "n=int(input())\n",
    "lis=[]\n",
    "li=list(map(int,input().split(\" \")))\n",
    "for x in li:\n",
    "    lis.append(x)\n",
    "lis.sort()\n",
    "q=int(input())\n",
    "while q>0:\n",
    "    x=int(input())\n",
    "    result = binary_search(lis, x) \n",
    "    print(result)\n",
    "    q-=1\n",
    "    "
   ]
  }
 ],
 "metadata": {
  "kernelspec": {
   "display_name": "Python 3",
   "language": "python",
   "name": "python3"
  },
  "language_info": {
   "codemirror_mode": {
    "name": "ipython",
    "version": 3
   },
   "file_extension": ".py",
   "mimetype": "text/x-python",
   "name": "python",
   "nbconvert_exporter": "python",
   "pygments_lexer": "ipython3",
   "version": "3.8.3"
  }
 },
 "nbformat": 4,
 "nbformat_minor": 4
}
