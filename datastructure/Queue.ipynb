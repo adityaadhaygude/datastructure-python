{
 "cells": [
  {
   "cell_type": "markdown",
   "metadata": {},
   "source": [
    "# Queue "
   ]
  },
  {
   "cell_type": "code",
   "execution_count": 1,
   "metadata": {},
   "outputs": [
    {
     "name": "stdout",
     "output_type": "stream",
     "text": [
      "enqueue: [1]\n",
      "enqueue: [1, 2]\n",
      "enqueue: [1, 2, 3]\n",
      "dequeue: [2, 3]\n",
      "peek: 3\n",
      "dequeue: [3]\n",
      "peek: 3\n"
     ]
    }
   ],
   "source": [
    "queue=[]\n",
    "queue.append(1) # append 1\n",
    "print(\"enqueue:\",queue)\n",
    "queue.append(2) # append 2\n",
    "print(\"enqueue:\",queue)\n",
    "queue.append(3) # append 3\n",
    "print(\"enqueue:\",queue)\n",
    "queue.pop(0) # pop 1\n",
    "print(\"dequeue:\",queue)\n",
    "print(\"peek:\",queue[-1]) # get top most element\n",
    "queue.pop(0) # pop 2\n",
    "print(\"dequeue:\",queue)\n",
    "print(\"peek:\",queue[-1]) # get top most element"
   ]
  }
 ],
 "metadata": {
  "kernelspec": {
   "display_name": "Python 3",
   "language": "python",
   "name": "python3"
  },
  "language_info": {
   "codemirror_mode": {
    "name": "ipython",
    "version": 3
   },
   "file_extension": ".py",
   "mimetype": "text/x-python",
   "name": "python",
   "nbconvert_exporter": "python",
   "pygments_lexer": "ipython3",
   "version": "3.8.3"
  }
 },
 "nbformat": 4,
 "nbformat_minor": 4
}
