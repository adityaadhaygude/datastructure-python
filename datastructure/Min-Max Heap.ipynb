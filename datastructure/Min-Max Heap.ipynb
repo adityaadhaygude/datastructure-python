{
 "cells": [
  {
   "cell_type": "markdown",
   "metadata": {},
   "source": [
    "# Max Heap"
   ]
  },
  {
   "cell_type": "code",
   "execution_count": 52,
   "metadata": {},
   "outputs": [
    {
     "name": "stdout",
     "output_type": "stream",
     "text": [
      "15 7 3 "
     ]
    }
   ],
   "source": [
    "class MaxHeap:\n",
    "    def __init__(self):\n",
    "        self.heaplist=[0]\n",
    "        self.current_size=0\n",
    "        \n",
    "    def shift_up(self,i):\n",
    "        while i//2 > 0:\n",
    "            if self.heaplist[i] > self.heaplist[i//2]:\n",
    "                self.heaplist[i],self.heaplist[i//2] = self.heaplist[i//2],self.heaplist[i]\n",
    "            i=i//2\n",
    "            \n",
    "    def insert(self,k):\n",
    "        self.heaplist.append(k)\n",
    "        self.current_size += 1\n",
    "        self.shift_up(self.current_size)\n",
    "        \n",
    "    def shift_down(self,i):\n",
    "        while i*2 <= self.current_size:\n",
    "            mc = self.max_child(i)\n",
    "            if self.heaplist[mc] > self.heaplist[i]:\n",
    "                self.heaplist[mc],self.heaplist[i] = self.heaplist[i],self.heaplist[mc]\n",
    "            i = mc\n",
    "            \n",
    "    def max_child(self,i):\n",
    "        if self.current_size > (i*2)+1:\n",
    "            return i*2\n",
    "        else:\n",
    "            if self.heaplist[i*2] > self.heaplist[i*2+1]:\n",
    "                return i*2\n",
    "            else:\n",
    "                return (i*2) + 1\n",
    "            \n",
    "    def delete(self):\n",
    "        if len(self.heaplist) == 1:\n",
    "            return \"Empty heap\"\n",
    "        root = self.heaplist[1]\n",
    "        self.heaplist[1] = self.heaplist[self.current_size]\n",
    "        self.current_size -= 1\n",
    "        self.shift_down(1)\n",
    "        return root\n",
    "    \n",
    "    def printList(self):\n",
    "        for i in range(1,self.current_size+1):\n",
    "            print(self.heaplist[i],end=\" \")\n",
    "            \n",
    "m = MaxHeap()\n",
    "m.insert(89)\n",
    "m.insert(3)\n",
    "m.insert(15)\n",
    "m.insert(20)\n",
    "m.insert(7)\n",
    "m.delete()\n",
    "m.delete()\n",
    "m.printList()\n",
    "\n",
    "\n",
    "\n",
    "        "
   ]
  },
  {
   "cell_type": "markdown",
   "metadata": {},
   "source": [
    "# Min Heap"
   ]
  },
  {
   "cell_type": "code",
   "execution_count": 53,
   "metadata": {},
   "outputs": [
    {
     "name": "stdout",
     "output_type": "stream",
     "text": [
      "15 20 89 "
     ]
    }
   ],
   "source": [
    "class MinHeap:\n",
    "    def __init__(self):\n",
    "        self.heaplist=[0]\n",
    "        self.current_size=0\n",
    "        \n",
    "    def shift_up(self,i):\n",
    "        while i//2 > 0:\n",
    "            if self.heaplist[i] < self.heaplist[i//2]:\n",
    "                self.heaplist[i],self.heaplist[i//2] = self.heaplist[i//2],self.heaplist[i]\n",
    "            i=i//2\n",
    "            \n",
    "    def insert(self,k):\n",
    "        self.heaplist.append(k)\n",
    "        self.current_size += 1\n",
    "        self.shift_up(self.current_size)\n",
    "        \n",
    "    def shift_down(self,i):\n",
    "        while i*2<= self.current_size:\n",
    "            mc = self.min_child(i)\n",
    "            if self.heaplist[mc] < self.heaplist[i]:\n",
    "                self.heaplist[mc],self.heaplist[i] = self.heaplist[i],self.heaplist[mc]\n",
    "            i = mc\n",
    "            \n",
    "    def min_child(self,i):\n",
    "        if self.current_size < (i*2)+1:\n",
    "            return i*2\n",
    "        else:\n",
    "            if self.heaplist[i*2] < self.heaplist[i*2+1]:\n",
    "                return i*2\n",
    "            else:\n",
    "                return (i*2) + 1\n",
    "            \n",
    "    def delete(self):\n",
    "        if len(self.heaplist) == 1:\n",
    "            return \"Empty heap\"\n",
    "        root = self.heaplist[1]\n",
    "        self.heaplist[1] = self.heaplist[self.current_size]\n",
    "        self.current_size -= 1\n",
    "        self.shift_down(1)\n",
    "        return root\n",
    "    \n",
    "    def printList(self):\n",
    "        for i in range(1,self.current_size+1):\n",
    "            print(self.heaplist[i],end=\" \")\n",
    "            \n",
    "m = MinHeap()\n",
    "m.insert(89)\n",
    "m.insert(3)\n",
    "m.insert(15)\n",
    "m.insert(20)\n",
    "m.insert(7)\n",
    "m.delete()\n",
    "m.delete()\n",
    "m.printList()\n",
    "\n",
    "\n",
    "\n",
    "        "
   ]
  }
 ],
 "metadata": {
  "kernelspec": {
   "display_name": "Python 3",
   "language": "python",
   "name": "python3"
  },
  "language_info": {
   "codemirror_mode": {
    "name": "ipython",
    "version": 3
   },
   "file_extension": ".py",
   "mimetype": "text/x-python",
   "name": "python",
   "nbconvert_exporter": "python",
   "pygments_lexer": "ipython3",
   "version": "3.8.1"
  }
 },
 "nbformat": 4,
 "nbformat_minor": 4
}
