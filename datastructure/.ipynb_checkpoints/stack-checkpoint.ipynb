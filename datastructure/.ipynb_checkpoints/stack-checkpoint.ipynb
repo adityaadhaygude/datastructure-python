{
 "cells": [
  {
   "cell_type": "markdown",
   "metadata": {},
   "source": [
    "# Stack"
   ]
  },
  {
   "cell_type": "code",
   "execution_count": 3,
   "metadata": {},
   "outputs": [
    {
     "name": "stdout",
     "output_type": "stream",
     "text": [
      "push: [1]\n",
      "push: [1, 2]\n",
      "push: [1, 2, 3]\n",
      "Popped element: 3\n",
      "pop: [1, 2]\n",
      "peek: 2\n",
      "Popped element: 2\n",
      "pop: [1]\n",
      "peek: 1\n"
     ]
    }
   ],
   "source": [
    "stack=[]\n",
    "stack.append(1) # append 1\n",
    "print(\"push:\",stack)\n",
    "stack.append(2) # append 2\n",
    "print(\"push:\",stack)\n",
    "stack.append(3) # append 3\n",
    "print(\"push:\",stack)\n",
    "print(\"Popped element:\",stack.pop()) # pop 3\n",
    "print(\"pop:\",stack)\n",
    "print(\"peek:\",stack[-1]) # get top most element\n",
    "print(\"Popped element:\",stack.pop()) # pop 2\n",
    "print(\"pop:\",stack)\n",
    "print(\"peek:\",stack[-1]) # get top most element"
   ]
  }
 ],
 "metadata": {
  "kernelspec": {
   "display_name": "Python 3",
   "language": "python",
   "name": "python3"
  },
  "language_info": {
   "codemirror_mode": {
    "name": "ipython",
    "version": 3
   },
   "file_extension": ".py",
   "mimetype": "text/x-python",
   "name": "python",
   "nbconvert_exporter": "python",
   "pygments_lexer": "ipython3",
   "version": "3.8.3"
  }
 },
 "nbformat": 4,
 "nbformat_minor": 4
}
